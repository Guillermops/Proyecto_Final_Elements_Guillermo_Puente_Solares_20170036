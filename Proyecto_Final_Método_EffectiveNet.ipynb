{
 "cells": [
  {
   "cell_type": "markdown",
   "metadata": {
    "id": "xzIu4vANkWQX"
   },
   "source": [
    "# **Método EffectiveNet** #"
   ]
  },
  {
   "cell_type": "markdown",
   "metadata": {
    "id": "oLqA0TOCkWNW"
   },
   "source": [
    "En este notebook se trabajará el método de EffectiveNet, ya que por problemas de espacio no se pudo llevar a cabo en el notebook en donde se hizo el proyecto. Pero de igual manera se desarrollará paso a paso para que se pueda observar la metodología y resultados. La comparación con el método tradicional se discutirá en el notebook principal."
   ]
  },
  {
   "cell_type": "markdown",
   "metadata": {
    "id": "QgUSJ9x3kWCz"
   },
   "source": [
    "## **Metodología** ##"
   ]
  },
  {
   "cell_type": "markdown",
   "metadata": {
    "id": "Ni-2N3Atk9mP"
   },
   "source": [
    "La metodología en la que se trbajará el método de EffectiveNet será similar a la metodología usada en el método de Redes Neuronales, se evaluará un modelo preliminar (con el val test) y luego se modificará el modelo principal para ajustar, si es necesario hacer ciertos ajustes y se evaluará con el test set."
   ]
  },
  {
   "cell_type": "code",
   "execution_count": 1,
   "metadata": {
    "colab": {
     "base_uri": "https://localhost:8080/"
    },
    "id": "1rSbExd3Y8Cv",
    "outputId": "fbb35bca-34cb-4605-d8d7-1e4d7b52f691"
   },
   "outputs": [
    {
     "name": "stdout",
     "output_type": "stream",
     "text": [
      "2.4.1\n"
     ]
    }
   ],
   "source": [
    "# Librerías normales #\n",
    "import numpy as np\n",
    "import matplotlib.pyplot as plt\n",
    "import warnings\n",
    "warnings.filterwarnings('ignore')\n",
    "\n",
    "# Librerías relacionadas con las Redes Neuronales #\n",
    "import tensorflow as tf\n",
    "print(tf.__version__)\n",
    "import keras\n",
    "from tensorflow.python.client import device_lib\n",
    "from tensorflow.keras.callbacks import TensorBoard \n",
    "from PIL import Image\n",
    "from keras.models import Sequential\n",
    "from keras.layers import Conv2D, MaxPooling2D, Dense, Flatten, Dropout\n",
    "from sklearn.model_selection import train_test_split\n",
    "\n",
    "%matplotlib inline\n",
    "\n",
    "#Librerías EfficientNet03\n",
    "from keras import applications\n",
    "from tensorflow.keras.applications import EfficientNetB3"
   ]
  },
  {
   "cell_type": "code",
   "execution_count": 2,
   "metadata": {
    "colab": {
     "base_uri": "https://localhost:8080/",
     "height": 35
    },
    "id": "dZDU3vyMZB8G",
    "outputId": "82d29284-3b19-4291-fecc-3aec1db51236"
   },
   "outputs": [
    {
     "data": {
      "application/vnd.google.colaboratory.intrinsic+json": {
       "type": "string"
      },
      "text/plain": [
       "'/device:GPU:0'"
      ]
     },
     "execution_count": 2,
     "metadata": {
      "tags": []
     },
     "output_type": "execute_result"
    }
   ],
   "source": [
    "# En primer lugar verificamos que sí estemos usando un GPU para que corra más rápido el script. #\n",
    "# (Usamos COLAB ya que la computadora no tenía la capacidad para correr el código usando el CPU normal) #\n",
    "tf.test.gpu_device_name()"
   ]
  },
  {
   "cell_type": "code",
   "execution_count": 3,
   "metadata": {
    "colab": {
     "base_uri": "https://localhost:8080/"
    },
    "id": "-nSnJmASZE_D",
    "outputId": "d983c340-bbc6-4992-da8a-0340ffef076d"
   },
   "outputs": [
    {
     "data": {
      "text/plain": [
       "[name: \"/device:CPU:0\"\n",
       " device_type: \"CPU\"\n",
       " memory_limit: 268435456\n",
       " locality {\n",
       " }\n",
       " incarnation: 361200605443397075, name: \"/device:GPU:0\"\n",
       " device_type: \"GPU\"\n",
       " memory_limit: 14674281152\n",
       " locality {\n",
       "   bus_id: 1\n",
       "   links {\n",
       "   }\n",
       " }\n",
       " incarnation: 5110844379384280527\n",
       " physical_device_desc: \"device: 0, name: Tesla T4, pci bus id: 0000:00:04.0, compute capability: 7.5\"]"
      ]
     },
     "execution_count": 3,
     "metadata": {
      "tags": []
     },
     "output_type": "execute_result"
    }
   ],
   "source": [
    "# Observamos los devices que se tienen disponibles #\n",
    "device_lib.list_local_devices()"
   ]
  },
  {
   "cell_type": "code",
   "execution_count": 4,
   "metadata": {
    "colab": {
     "base_uri": "https://localhost:8080/"
    },
    "id": "4-EawtrwZIbG",
    "outputId": "dfe587f8-84f8-4a3b-cf9c-7d60dd63dfa7"
   },
   "outputs": [
    {
     "name": "stdout",
     "output_type": "stream",
     "text": [
      "Mounted at /content/gdrive\n"
     ]
    }
   ],
   "source": [
    "# Con esta función podemos \"traer\" los datos que subimos a drive para poder usarlos #\n",
    "# (Se necesita hacer login en la cuenta para acceder a todos los datos, pero estos se pueden #\n",
    "# enviar si se desean) #\n",
    "from google.colab import drive\n",
    "drive.mount('/content/gdrive')"
   ]
  },
  {
   "cell_type": "code",
   "execution_count": 5,
   "metadata": {
    "colab": {
     "base_uri": "https://localhost:8080/"
    },
    "id": "Zqlkcv7jZMXt",
    "outputId": "98a68499-ee4e-4ec0-8e7d-48a235c56fbb"
   },
   "outputs": [
    {
     "name": "stdout",
     "output_type": "stream",
     "text": [
      "Found 1620 images belonging to 2 classes.\n",
      "Found 493 images belonging to 2 classes.\n",
      "Found 330 images belonging to 2 classes.\n"
     ]
    }
   ],
   "source": [
    "# Se reduce el tamaño de las imágenes ya que si se dejaba cómo estaba la página (Colab) #\n",
    "# No soportaba el tamaño y se quedaba sin memoria para poder correr el modelo. #\n",
    "\n",
    "image_generator = tf.keras.preprocessing.image.ImageDataGenerator(rescale=1./255)\n",
    "\n",
    "\n",
    "traindata2 = image_generator.flow_from_directory(\"/content/gdrive/My Drive/xray_pulmones/train\",\n",
    "                                           target_size = (50, 50),\n",
    "                                           class_mode = 'categorical',\n",
    "                                           batch_size = 500)\n",
    "testdata2 = image_generator.flow_from_directory('/content/gdrive/My Drive/xray_pulmones/test',\n",
    "                                           target_size = (50, 50),\n",
    "                                           class_mode = 'categorical',\n",
    "                                           batch_size = 75)\n",
    "valdata2 = image_generator.flow_from_directory('/content/gdrive/My Drive/xray_pulmones/val',\n",
    "                                           target_size = (50, 50),\n",
    "                                           class_mode = 'categorical',\n",
    "                                           batch_size = 75)"
   ]
  },
  {
   "cell_type": "code",
   "execution_count": 6,
   "metadata": {
    "colab": {
     "base_uri": "https://localhost:8080/"
    },
    "id": "DWm4FyxRZPCk",
    "outputId": "651de938-3461-42cb-d3e1-acdb36a1dda2"
   },
   "outputs": [
    {
     "name": "stdout",
     "output_type": "stream",
     "text": [
      "Downloading data from https://storage.googleapis.com/keras-applications/efficientnetb3_notop.h5\n",
      "43941888/43941136 [==============================] - 0s 0us/step\n"
     ]
    }
   ],
   "source": [
    "# Previamente se impoortó la librería y a continuación se \"armará\" el modelo. #\n",
    "# Primero cargamos el modelo y primero definimos algunas características, #\n",
    "# como include_top que define si usamos la capa completa y la conectamos con la siguiente. #\n",
    "\n",
    "eff_net = EfficientNetB3\n",
    "eff_net_modelo = eff_net(include_top = False, input_shape = (50, 50, 3), pooling = 'max')\n",
    "\n",
    "modelo2 = Sequential()\n",
    "modelo2.add(eff_net_modelo)\n",
    "modelo2.add(Dense(units = 32, activation = 'relu'))\n",
    "modelo2.add(Dense(units = 64, activation = 'relu'))\n",
    "modelo2.add(Dropout(0.25))\n",
    "modelo2.add(Dense(units = 2, activation= 'softmax'))\n",
    "\n",
    "modelo2.compile(optimizer = 'adam', loss='categorical_crossentropy', metrics=['accuracy'])"
   ]
  },
  {
   "cell_type": "code",
   "execution_count": 8,
   "metadata": {
    "colab": {
     "base_uri": "https://localhost:8080/"
    },
    "id": "WLCgDubFZPSg",
    "outputId": "359f0b62-a8c7-454e-8ba7-be9e6bb4d927"
   },
   "outputs": [
    {
     "name": "stdout",
     "output_type": "stream",
     "text": [
      "Epoch 1/2\n",
      "4/4 [==============================] - 493s 138s/step - loss: 0.7966 - accuracy: 0.5554 - val_loss: 0.7106 - val_accuracy: 0.5000\n",
      "Epoch 2/2\n",
      "4/4 [==============================] - 26s 6s/step - loss: 0.4147 - accuracy: 0.8283 - val_loss: 0.7178 - val_accuracy: 0.5000\n"
     ]
    }
   ],
   "source": [
    "resultado_EN3_1 = modelo2.fit_generator(traindata2, epochs = 2, validation_data = valdata2)"
   ]
  },
  {
   "cell_type": "code",
   "execution_count": 9,
   "metadata": {
    "colab": {
     "base_uri": "https://localhost:8080/"
    },
    "id": "RgOvkOwmZPVO",
    "outputId": "997128dd-3601-485e-9f0f-4ddafddc4964"
   },
   "outputs": [
    {
     "name": "stdout",
     "output_type": "stream",
     "text": [
      "Epoch 1/10\n",
      "4/4 [==============================] - 27s 7s/step - loss: 0.2028 - accuracy: 0.9228 - val_loss: 0.8353 - val_accuracy: 0.5000\n",
      "Epoch 2/10\n",
      "4/4 [==============================] - 26s 6s/step - loss: 0.1434 - accuracy: 0.9444 - val_loss: 1.5690 - val_accuracy: 0.5000\n",
      "Epoch 3/10\n",
      "4/4 [==============================] - 26s 6s/step - loss: 0.0974 - accuracy: 0.9593 - val_loss: 2.1521 - val_accuracy: 0.5000\n",
      "Epoch 4/10\n",
      "4/4 [==============================] - 26s 6s/step - loss: 0.0747 - accuracy: 0.9728 - val_loss: 2.7453 - val_accuracy: 0.5000\n",
      "Epoch 5/10\n",
      "4/4 [==============================] - 26s 6s/step - loss: 0.0656 - accuracy: 0.9759 - val_loss: 4.1348 - val_accuracy: 0.5000\n",
      "Epoch 6/10\n",
      "4/4 [==============================] - 26s 6s/step - loss: 0.0447 - accuracy: 0.9821 - val_loss: 5.4078 - val_accuracy: 0.5000\n",
      "Epoch 7/10\n",
      "4/4 [==============================] - 25s 6s/step - loss: 0.0593 - accuracy: 0.9790 - val_loss: 5.7862 - val_accuracy: 0.5000\n",
      "Epoch 8/10\n",
      "4/4 [==============================] - 25s 6s/step - loss: 0.0533 - accuracy: 0.9802 - val_loss: 5.2562 - val_accuracy: 0.5000\n",
      "Epoch 9/10\n",
      "4/4 [==============================] - 25s 6s/step - loss: 0.0418 - accuracy: 0.9858 - val_loss: 4.5342 - val_accuracy: 0.5000\n",
      "Epoch 10/10\n",
      "4/4 [==============================] - 26s 6s/step - loss: 0.0388 - accuracy: 0.9895 - val_loss: 4.0791 - val_accuracy: 0.5000\n"
     ]
    }
   ],
   "source": [
    "resultado_EN3_2 = modelo2.fit_generator(traindata2, epochs = 10, validation_data = valdata2)"
   ]
  },
  {
   "cell_type": "markdown",
   "metadata": {
    "id": "Kra6s2-Mez0G"
   },
   "source": [
    "Observamos que el modelo logra clasificar las imágenes de una manera excelente. Se llevará a cabo una última prueba con un drop más alto para terminar de confirmar que no hay overfitting."
   ]
  },
  {
   "cell_type": "code",
   "execution_count": 10,
   "metadata": {
    "id": "0V9P59fqfWVs"
   },
   "outputs": [],
   "source": [
    "eff_net = EfficientNetB3\n",
    "eff_net_modelo = eff_net(include_top = False, input_shape = (50, 50, 3), pooling = 'max')\n",
    "\n",
    "modelo2 = Sequential()\n",
    "modelo2.add(eff_net_modelo)\n",
    "modelo2.add(Dense(units = 32, activation = 'relu'))\n",
    "modelo2.add(Dropout(0.25))\n",
    "modelo2.add(Dense(units = 64, activation = 'relu'))\n",
    "modelo2.add(Dropout(0.25))\n",
    "modelo2.add(Dense(units = 2, activation= 'softmax'))\n",
    "\n",
    "modelo2.compile(optimizer = 'adam', loss='categorical_crossentropy', metrics=['accuracy'])"
   ]
  },
  {
   "cell_type": "code",
   "execution_count": 12,
   "metadata": {
    "colab": {
     "base_uri": "https://localhost:8080/"
    },
    "id": "_tTs53JTiwVz",
    "outputId": "f81908c6-8da0-41cd-f9d8-1b46f8a568e1"
   },
   "outputs": [
    {
     "name": "stdout",
     "output_type": "stream",
     "text": [
      "Epoch 1/10\n",
      "4/4 [==============================] - 41s 10s/step - loss: 0.3715 - accuracy: 0.8389 - val_loss: 0.6518 - val_accuracy: 0.6653\n",
      "Epoch 2/10\n",
      "4/4 [==============================] - 29s 9s/step - loss: 0.2044 - accuracy: 0.9265 - val_loss: 0.6824 - val_accuracy: 0.6653\n",
      "Epoch 3/10\n",
      "4/4 [==============================] - 29s 7s/step - loss: 0.1248 - accuracy: 0.9556 - val_loss: 0.8061 - val_accuracy: 0.3347\n",
      "Epoch 4/10\n",
      "4/4 [==============================] - 29s 7s/step - loss: 0.0860 - accuracy: 0.9660 - val_loss: 1.2928 - val_accuracy: 0.3347\n",
      "Epoch 5/10\n",
      "4/4 [==============================] - 29s 9s/step - loss: 0.0668 - accuracy: 0.9778 - val_loss: 1.7313 - val_accuracy: 0.3347\n",
      "Epoch 6/10\n",
      "4/4 [==============================] - 29s 9s/step - loss: 0.0410 - accuracy: 0.9852 - val_loss: 2.0807 - val_accuracy: 0.3347\n",
      "Epoch 7/10\n",
      "4/4 [==============================] - 28s 7s/step - loss: 0.0317 - accuracy: 0.9889 - val_loss: 2.4966 - val_accuracy: 0.3347\n",
      "Epoch 8/10\n",
      "4/4 [==============================] - 29s 9s/step - loss: 0.0422 - accuracy: 0.9883 - val_loss: 2.5984 - val_accuracy: 0.3347\n",
      "Epoch 9/10\n",
      "4/4 [==============================] - 29s 7s/step - loss: 0.0618 - accuracy: 0.9821 - val_loss: 2.8040 - val_accuracy: 0.3347\n",
      "Epoch 10/10\n",
      "4/4 [==============================] - 28s 9s/step - loss: 0.0480 - accuracy: 0.9840 - val_loss: 2.1124 - val_accuracy: 0.3347\n"
     ]
    }
   ],
   "source": [
    "resultado_EN3_4 = modelo2.fit_generator(traindata2, epochs = 10, validation_data = testdata2)"
   ]
  },
  {
   "cell_type": "markdown",
   "metadata": {
    "id": "hSUNvBhtpy3i"
   },
   "source": [
    "Podemos observar que el predictive score del modelo es bastante alto y la comparación con el primer modelo se hará en el notebook principal."
   ]
  }
 ],
 "metadata": {
  "accelerator": "GPU",
  "colab": {
   "collapsed_sections": [],
   "name": "Proyecto_Final_Elements_Método_EffectiveNet.ipynb",
   "provenance": []
  },
  "kernelspec": {
   "display_name": "Python 3",
   "language": "python",
   "name": "python3"
  },
  "language_info": {
   "codemirror_mode": {
    "name": "ipython",
    "version": 3
   },
   "file_extension": ".py",
   "mimetype": "text/x-python",
   "name": "python",
   "nbconvert_exporter": "python",
   "pygments_lexer": "ipython3",
   "version": "3.7.6"
  }
 },
 "nbformat": 4,
 "nbformat_minor": 4
}
